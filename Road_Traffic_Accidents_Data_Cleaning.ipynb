{
 "cells": [
  {
   "cell_type": "markdown",
   "metadata": {},
   "source": [
    "# Road Traffic Accidents "
   ]
  },
  {
   "cell_type": "markdown",
   "metadata": {},
   "source": [
    "#### About Dataset\n",
    "##### Context\n",
    "This data set is collected from Addis Ababa Sub city police departments for Masters research work.\n",
    "\n",
    "##### Content\n",
    "The data set has been prepared from manual records of road traffic accident of the year 2017-20. All the sensitive information have been excluded during data encoding and finally it has 32 features and 12316 instances of the accident. \n",
    "\n",
    "##### Acknowledgements\n",
    "Bedane, Tarikwa Tesfa (2020), “Road Traffic Accident Dataset of Addis Ababa City”, Mendeley Data, V1, doi: 10.17632/xytv86278f.1"
   ]
  },
  {
   "cell_type": "code",
   "execution_count": 1,
   "metadata": {},
   "outputs": [],
   "source": [
    "# import libraries \n",
    "import pandas as pd\n",
    "import numpy as np"
   ]
  },
  {
   "cell_type": "code",
   "execution_count": 2,
   "metadata": {},
   "outputs": [],
   "source": [
    "#import data\n",
    "\n",
    "df = pd.read_csv(r'C:\\Users\\16476\\Documents\\RTA Dataset.csv')"
   ]
  },
  {
   "cell_type": "code",
   "execution_count": 3,
   "metadata": {},
   "outputs": [
    {
     "data": {
      "text/html": [
       "<div>\n",
       "<style scoped>\n",
       "    .dataframe tbody tr th:only-of-type {\n",
       "        vertical-align: middle;\n",
       "    }\n",
       "\n",
       "    .dataframe tbody tr th {\n",
       "        vertical-align: top;\n",
       "    }\n",
       "\n",
       "    .dataframe thead th {\n",
       "        text-align: right;\n",
       "    }\n",
       "</style>\n",
       "<table border=\"1\" class=\"dataframe\">\n",
       "  <thead>\n",
       "    <tr style=\"text-align: right;\">\n",
       "      <th></th>\n",
       "      <th>Time</th>\n",
       "      <th>Day_of_week</th>\n",
       "      <th>Age_band_of_driver</th>\n",
       "      <th>Sex_of_driver</th>\n",
       "      <th>Educational_level</th>\n",
       "      <th>Vehicle_driver_relation</th>\n",
       "      <th>Driving_experience</th>\n",
       "      <th>Type_of_vehicle</th>\n",
       "      <th>Owner_of_vehicle</th>\n",
       "      <th>Service_year_of_vehicle</th>\n",
       "      <th>...</th>\n",
       "      <th>Vehicle_movement</th>\n",
       "      <th>Casualty_class</th>\n",
       "      <th>Sex_of_casualty</th>\n",
       "      <th>Age_band_of_casualty</th>\n",
       "      <th>Casualty_severity</th>\n",
       "      <th>Work_of_casuality</th>\n",
       "      <th>Fitness_of_casuality</th>\n",
       "      <th>Pedestrian_movement</th>\n",
       "      <th>Cause_of_accident</th>\n",
       "      <th>Accident_severity</th>\n",
       "    </tr>\n",
       "  </thead>\n",
       "  <tbody>\n",
       "    <tr>\n",
       "      <th>0</th>\n",
       "      <td>17:02:00</td>\n",
       "      <td>Monday</td>\n",
       "      <td>18-30</td>\n",
       "      <td>Male</td>\n",
       "      <td>Above high school</td>\n",
       "      <td>Employee</td>\n",
       "      <td>1-2yr</td>\n",
       "      <td>Automobile</td>\n",
       "      <td>Owner</td>\n",
       "      <td>Above 10yr</td>\n",
       "      <td>...</td>\n",
       "      <td>Going straight</td>\n",
       "      <td>na</td>\n",
       "      <td>na</td>\n",
       "      <td>na</td>\n",
       "      <td>na</td>\n",
       "      <td>NaN</td>\n",
       "      <td>NaN</td>\n",
       "      <td>Not a Pedestrian</td>\n",
       "      <td>Moving Backward</td>\n",
       "      <td>Slight Injury</td>\n",
       "    </tr>\n",
       "    <tr>\n",
       "      <th>1</th>\n",
       "      <td>17:02:00</td>\n",
       "      <td>Monday</td>\n",
       "      <td>31-50</td>\n",
       "      <td>Male</td>\n",
       "      <td>Junior high school</td>\n",
       "      <td>Employee</td>\n",
       "      <td>Above 10yr</td>\n",
       "      <td>Public (&gt; 45 seats)</td>\n",
       "      <td>Owner</td>\n",
       "      <td>5-10yrs</td>\n",
       "      <td>...</td>\n",
       "      <td>Going straight</td>\n",
       "      <td>na</td>\n",
       "      <td>na</td>\n",
       "      <td>na</td>\n",
       "      <td>na</td>\n",
       "      <td>NaN</td>\n",
       "      <td>NaN</td>\n",
       "      <td>Not a Pedestrian</td>\n",
       "      <td>Overtaking</td>\n",
       "      <td>Slight Injury</td>\n",
       "    </tr>\n",
       "    <tr>\n",
       "      <th>2</th>\n",
       "      <td>17:02:00</td>\n",
       "      <td>Monday</td>\n",
       "      <td>18-30</td>\n",
       "      <td>Male</td>\n",
       "      <td>Junior high school</td>\n",
       "      <td>Employee</td>\n",
       "      <td>1-2yr</td>\n",
       "      <td>Lorry (41?100Q)</td>\n",
       "      <td>Owner</td>\n",
       "      <td>NaN</td>\n",
       "      <td>...</td>\n",
       "      <td>Going straight</td>\n",
       "      <td>Driver or rider</td>\n",
       "      <td>Male</td>\n",
       "      <td>31-50</td>\n",
       "      <td>3</td>\n",
       "      <td>Driver</td>\n",
       "      <td>NaN</td>\n",
       "      <td>Not a Pedestrian</td>\n",
       "      <td>Changing lane to the left</td>\n",
       "      <td>Serious Injury</td>\n",
       "    </tr>\n",
       "    <tr>\n",
       "      <th>3</th>\n",
       "      <td>1:06:00</td>\n",
       "      <td>Sunday</td>\n",
       "      <td>18-30</td>\n",
       "      <td>Male</td>\n",
       "      <td>Junior high school</td>\n",
       "      <td>Employee</td>\n",
       "      <td>5-10yr</td>\n",
       "      <td>Public (&gt; 45 seats)</td>\n",
       "      <td>Governmental</td>\n",
       "      <td>NaN</td>\n",
       "      <td>...</td>\n",
       "      <td>Going straight</td>\n",
       "      <td>Pedestrian</td>\n",
       "      <td>Female</td>\n",
       "      <td>18-30</td>\n",
       "      <td>3</td>\n",
       "      <td>Driver</td>\n",
       "      <td>Normal</td>\n",
       "      <td>Not a Pedestrian</td>\n",
       "      <td>Changing lane to the right</td>\n",
       "      <td>Slight Injury</td>\n",
       "    </tr>\n",
       "    <tr>\n",
       "      <th>4</th>\n",
       "      <td>1:06:00</td>\n",
       "      <td>Sunday</td>\n",
       "      <td>18-30</td>\n",
       "      <td>Male</td>\n",
       "      <td>Junior high school</td>\n",
       "      <td>Employee</td>\n",
       "      <td>2-5yr</td>\n",
       "      <td>NaN</td>\n",
       "      <td>Owner</td>\n",
       "      <td>5-10yrs</td>\n",
       "      <td>...</td>\n",
       "      <td>Going straight</td>\n",
       "      <td>na</td>\n",
       "      <td>na</td>\n",
       "      <td>na</td>\n",
       "      <td>na</td>\n",
       "      <td>NaN</td>\n",
       "      <td>NaN</td>\n",
       "      <td>Not a Pedestrian</td>\n",
       "      <td>Overtaking</td>\n",
       "      <td>Slight Injury</td>\n",
       "    </tr>\n",
       "  </tbody>\n",
       "</table>\n",
       "<p>5 rows × 32 columns</p>\n",
       "</div>"
      ],
      "text/plain": [
       "       Time Day_of_week Age_band_of_driver Sex_of_driver   Educational_level  \\\n",
       "0  17:02:00      Monday              18-30          Male   Above high school   \n",
       "1  17:02:00      Monday              31-50          Male  Junior high school   \n",
       "2  17:02:00      Monday              18-30          Male  Junior high school   \n",
       "3   1:06:00      Sunday              18-30          Male  Junior high school   \n",
       "4   1:06:00      Sunday              18-30          Male  Junior high school   \n",
       "\n",
       "  Vehicle_driver_relation Driving_experience      Type_of_vehicle  \\\n",
       "0                Employee              1-2yr           Automobile   \n",
       "1                Employee         Above 10yr  Public (> 45 seats)   \n",
       "2                Employee              1-2yr      Lorry (41?100Q)   \n",
       "3                Employee             5-10yr  Public (> 45 seats)   \n",
       "4                Employee              2-5yr                  NaN   \n",
       "\n",
       "  Owner_of_vehicle Service_year_of_vehicle  ... Vehicle_movement  \\\n",
       "0            Owner              Above 10yr  ...   Going straight   \n",
       "1            Owner                 5-10yrs  ...   Going straight   \n",
       "2            Owner                     NaN  ...   Going straight   \n",
       "3     Governmental                     NaN  ...   Going straight   \n",
       "4            Owner                 5-10yrs  ...   Going straight   \n",
       "\n",
       "    Casualty_class Sex_of_casualty Age_band_of_casualty Casualty_severity  \\\n",
       "0               na              na                   na                na   \n",
       "1               na              na                   na                na   \n",
       "2  Driver or rider            Male                31-50                 3   \n",
       "3       Pedestrian          Female                18-30                 3   \n",
       "4               na              na                   na                na   \n",
       "\n",
       "  Work_of_casuality Fitness_of_casuality Pedestrian_movement  \\\n",
       "0               NaN                  NaN    Not a Pedestrian   \n",
       "1               NaN                  NaN    Not a Pedestrian   \n",
       "2            Driver                  NaN    Not a Pedestrian   \n",
       "3            Driver               Normal    Not a Pedestrian   \n",
       "4               NaN                  NaN    Not a Pedestrian   \n",
       "\n",
       "            Cause_of_accident Accident_severity  \n",
       "0             Moving Backward     Slight Injury  \n",
       "1                  Overtaking     Slight Injury  \n",
       "2   Changing lane to the left    Serious Injury  \n",
       "3  Changing lane to the right     Slight Injury  \n",
       "4                  Overtaking     Slight Injury  \n",
       "\n",
       "[5 rows x 32 columns]"
      ]
     },
     "execution_count": 3,
     "metadata": {},
     "output_type": "execute_result"
    }
   ],
   "source": [
    "# show the data\n",
    "\n",
    "df.head()"
   ]
  },
  {
   "cell_type": "code",
   "execution_count": 4,
   "metadata": {},
   "outputs": [
    {
     "data": {
      "text/plain": [
       "(12316, 32)"
      ]
     },
     "execution_count": 4,
     "metadata": {},
     "output_type": "execute_result"
    }
   ],
   "source": [
    "# shape of the data \n",
    "df.shape"
   ]
  },
  {
   "cell_type": "markdown",
   "metadata": {},
   "source": [
    "## Data Cleaning "
   ]
  },
  {
   "cell_type": "markdown",
   "metadata": {},
   "source": [
    "Checking the null values "
   ]
  },
  {
   "cell_type": "code",
   "execution_count": 5,
   "metadata": {},
   "outputs": [
    {
     "data": {
      "text/plain": [
       "Time                              0\n",
       "Day_of_week                       0\n",
       "Age_band_of_driver                0\n",
       "Sex_of_driver                     0\n",
       "Educational_level               741\n",
       "Vehicle_driver_relation         579\n",
       "Driving_experience              829\n",
       "Type_of_vehicle                 950\n",
       "Owner_of_vehicle                482\n",
       "Service_year_of_vehicle        3928\n",
       "Defect_of_vehicle              4427\n",
       "Area_accident_occured           239\n",
       "Lanes_or_Medians                385\n",
       "Road_allignment                 142\n",
       "Types_of_Junction               887\n",
       "Road_surface_type               172\n",
       "Road_surface_conditions           0\n",
       "Light_conditions                  0\n",
       "Weather_conditions                0\n",
       "Type_of_collision               155\n",
       "Number_of_vehicles_involved       0\n",
       "Number_of_casualties              0\n",
       "Vehicle_movement                308\n",
       "Casualty_class                    0\n",
       "Sex_of_casualty                   0\n",
       "Age_band_of_casualty              0\n",
       "Casualty_severity                 0\n",
       "Work_of_casuality              3198\n",
       "Fitness_of_casuality           2635\n",
       "Pedestrian_movement               0\n",
       "Cause_of_accident                 0\n",
       "Accident_severity                 0\n",
       "dtype: int64"
      ]
     },
     "execution_count": 5,
     "metadata": {},
     "output_type": "execute_result"
    }
   ],
   "source": [
    "# null values \n",
    "df.isna().sum()"
   ]
  },
  {
   "cell_type": "code",
   "execution_count": 6,
   "metadata": {
    "scrolled": false
   },
   "outputs": [
    {
     "data": {
      "text/plain": [
       "Time                            0.00\n",
       "Day_of_week                     0.00\n",
       "Age_band_of_driver              0.00\n",
       "Sex_of_driver                   0.00\n",
       "Educational_level               6.02\n",
       "Vehicle_driver_relation         4.70\n",
       "Driving_experience              6.73\n",
       "Type_of_vehicle                 7.71\n",
       "Owner_of_vehicle                3.91\n",
       "Service_year_of_vehicle        31.89\n",
       "Defect_of_vehicle              35.95\n",
       "Area_accident_occured           1.94\n",
       "Lanes_or_Medians                3.13\n",
       "Road_allignment                 1.15\n",
       "Types_of_Junction               7.20\n",
       "Road_surface_type               1.40\n",
       "Road_surface_conditions         0.00\n",
       "Light_conditions                0.00\n",
       "Weather_conditions              0.00\n",
       "Type_of_collision               1.26\n",
       "Number_of_vehicles_involved     0.00\n",
       "Number_of_casualties            0.00\n",
       "Vehicle_movement                2.50\n",
       "Casualty_class                  0.00\n",
       "Sex_of_casualty                 0.00\n",
       "Age_band_of_casualty            0.00\n",
       "Casualty_severity               0.00\n",
       "Work_of_casuality              25.97\n",
       "Fitness_of_casuality           21.39\n",
       "Pedestrian_movement             0.00\n",
       "Cause_of_accident               0.00\n",
       "Accident_severity               0.00\n",
       "dtype: float64"
      ]
     },
     "execution_count": 6,
     "metadata": {},
     "output_type": "execute_result"
    }
   ],
   "source": [
    "# percentage of null values \n",
    "round((df.isna().sum()/df.shape[0])*100,2)"
   ]
  },
  {
   "cell_type": "markdown",
   "metadata": {},
   "source": [
    "## Deleting the columns ( having missing values > 2000)\n",
    "\n",
    "\n",
    "\n",
    "\n",
    "There are quite a number of missing values in the dataset.\n",
    "Lets try to find out a way to clean the dataset.\n",
    "\n",
    "\n",
    "\n",
    "Let us delete the columns that have missing values more than 2000.\n",
    "\n",
    "\n",
    "For example: These columns \n",
    "`Service_year_of_vehicle`-        3928\n",
    "`Defect_of_vehicle` -             4427\n",
    "\n",
    "\n",
    "`Work_of_casuality` -             3198\n",
    "`Fitness_of_casuality` -           2635\n",
    "have missing values. So let us drop these columns.\n"
   ]
  },
  {
   "cell_type": "code",
   "execution_count": 7,
   "metadata": {},
   "outputs": [],
   "source": [
    "df.drop(columns = ['Service_year_of_vehicle','Defect_of_vehicle', 'Work_of_casuality','Fitness_of_casuality'], axis = 1, inplace = True)"
   ]
  },
  {
   "cell_type": "code",
   "execution_count": 8,
   "metadata": {},
   "outputs": [
    {
     "data": {
      "text/plain": [
       "Index(['Time', 'Day_of_week', 'Age_band_of_driver', 'Sex_of_driver',\n",
       "       'Educational_level', 'Vehicle_driver_relation', 'Driving_experience',\n",
       "       'Type_of_vehicle', 'Owner_of_vehicle', 'Area_accident_occured',\n",
       "       'Lanes_or_Medians', 'Road_allignment', 'Types_of_Junction',\n",
       "       'Road_surface_type', 'Road_surface_conditions', 'Light_conditions',\n",
       "       'Weather_conditions', 'Type_of_collision',\n",
       "       'Number_of_vehicles_involved', 'Number_of_casualties',\n",
       "       'Vehicle_movement', 'Casualty_class', 'Sex_of_casualty',\n",
       "       'Age_band_of_casualty', 'Casualty_severity', 'Pedestrian_movement',\n",
       "       'Cause_of_accident', 'Accident_severity'],\n",
       "      dtype='object')"
      ]
     },
     "execution_count": 8,
     "metadata": {},
     "output_type": "execute_result"
    }
   ],
   "source": [
    "# let us check if the columns have been dropped or not \n",
    "df.columns "
   ]
  },
  {
   "cell_type": "code",
   "execution_count": 9,
   "metadata": {},
   "outputs": [
    {
     "data": {
      "text/html": [
       "<div>\n",
       "<style scoped>\n",
       "    .dataframe tbody tr th:only-of-type {\n",
       "        vertical-align: middle;\n",
       "    }\n",
       "\n",
       "    .dataframe tbody tr th {\n",
       "        vertical-align: top;\n",
       "    }\n",
       "\n",
       "    .dataframe thead th {\n",
       "        text-align: right;\n",
       "    }\n",
       "</style>\n",
       "<table border=\"1\" class=\"dataframe\">\n",
       "  <thead>\n",
       "    <tr style=\"text-align: right;\">\n",
       "      <th></th>\n",
       "      <th>Time</th>\n",
       "      <th>Day_of_week</th>\n",
       "      <th>Age_band_of_driver</th>\n",
       "      <th>Sex_of_driver</th>\n",
       "      <th>Educational_level</th>\n",
       "      <th>Vehicle_driver_relation</th>\n",
       "      <th>Driving_experience</th>\n",
       "      <th>Type_of_vehicle</th>\n",
       "      <th>Owner_of_vehicle</th>\n",
       "      <th>Area_accident_occured</th>\n",
       "      <th>...</th>\n",
       "      <th>Number_of_vehicles_involved</th>\n",
       "      <th>Number_of_casualties</th>\n",
       "      <th>Vehicle_movement</th>\n",
       "      <th>Casualty_class</th>\n",
       "      <th>Sex_of_casualty</th>\n",
       "      <th>Age_band_of_casualty</th>\n",
       "      <th>Casualty_severity</th>\n",
       "      <th>Pedestrian_movement</th>\n",
       "      <th>Cause_of_accident</th>\n",
       "      <th>Accident_severity</th>\n",
       "    </tr>\n",
       "  </thead>\n",
       "  <tbody>\n",
       "    <tr>\n",
       "      <th>count</th>\n",
       "      <td>12316</td>\n",
       "      <td>12316</td>\n",
       "      <td>12316</td>\n",
       "      <td>12316</td>\n",
       "      <td>11575</td>\n",
       "      <td>11737</td>\n",
       "      <td>11487</td>\n",
       "      <td>11366</td>\n",
       "      <td>11834</td>\n",
       "      <td>12077</td>\n",
       "      <td>...</td>\n",
       "      <td>12316.000000</td>\n",
       "      <td>12316.000000</td>\n",
       "      <td>12008</td>\n",
       "      <td>12316</td>\n",
       "      <td>12316</td>\n",
       "      <td>12316</td>\n",
       "      <td>12316</td>\n",
       "      <td>12316</td>\n",
       "      <td>12316</td>\n",
       "      <td>12316</td>\n",
       "    </tr>\n",
       "    <tr>\n",
       "      <th>unique</th>\n",
       "      <td>1074</td>\n",
       "      <td>7</td>\n",
       "      <td>5</td>\n",
       "      <td>3</td>\n",
       "      <td>7</td>\n",
       "      <td>4</td>\n",
       "      <td>7</td>\n",
       "      <td>17</td>\n",
       "      <td>4</td>\n",
       "      <td>14</td>\n",
       "      <td>...</td>\n",
       "      <td>NaN</td>\n",
       "      <td>NaN</td>\n",
       "      <td>13</td>\n",
       "      <td>4</td>\n",
       "      <td>3</td>\n",
       "      <td>6</td>\n",
       "      <td>4</td>\n",
       "      <td>9</td>\n",
       "      <td>20</td>\n",
       "      <td>3</td>\n",
       "    </tr>\n",
       "    <tr>\n",
       "      <th>top</th>\n",
       "      <td>15:30:00</td>\n",
       "      <td>Friday</td>\n",
       "      <td>18-30</td>\n",
       "      <td>Male</td>\n",
       "      <td>Junior high school</td>\n",
       "      <td>Employee</td>\n",
       "      <td>5-10yr</td>\n",
       "      <td>Automobile</td>\n",
       "      <td>Owner</td>\n",
       "      <td>Other</td>\n",
       "      <td>...</td>\n",
       "      <td>NaN</td>\n",
       "      <td>NaN</td>\n",
       "      <td>Going straight</td>\n",
       "      <td>Driver or rider</td>\n",
       "      <td>Male</td>\n",
       "      <td>na</td>\n",
       "      <td>3</td>\n",
       "      <td>Not a Pedestrian</td>\n",
       "      <td>No distancing</td>\n",
       "      <td>Slight Injury</td>\n",
       "    </tr>\n",
       "    <tr>\n",
       "      <th>freq</th>\n",
       "      <td>120</td>\n",
       "      <td>2041</td>\n",
       "      <td>4271</td>\n",
       "      <td>11437</td>\n",
       "      <td>7619</td>\n",
       "      <td>9627</td>\n",
       "      <td>3363</td>\n",
       "      <td>3205</td>\n",
       "      <td>10459</td>\n",
       "      <td>3819</td>\n",
       "      <td>...</td>\n",
       "      <td>NaN</td>\n",
       "      <td>NaN</td>\n",
       "      <td>8158</td>\n",
       "      <td>4944</td>\n",
       "      <td>5253</td>\n",
       "      <td>4443</td>\n",
       "      <td>7076</td>\n",
       "      <td>11390</td>\n",
       "      <td>2263</td>\n",
       "      <td>10415</td>\n",
       "    </tr>\n",
       "    <tr>\n",
       "      <th>mean</th>\n",
       "      <td>NaN</td>\n",
       "      <td>NaN</td>\n",
       "      <td>NaN</td>\n",
       "      <td>NaN</td>\n",
       "      <td>NaN</td>\n",
       "      <td>NaN</td>\n",
       "      <td>NaN</td>\n",
       "      <td>NaN</td>\n",
       "      <td>NaN</td>\n",
       "      <td>NaN</td>\n",
       "      <td>...</td>\n",
       "      <td>2.040679</td>\n",
       "      <td>1.548149</td>\n",
       "      <td>NaN</td>\n",
       "      <td>NaN</td>\n",
       "      <td>NaN</td>\n",
       "      <td>NaN</td>\n",
       "      <td>NaN</td>\n",
       "      <td>NaN</td>\n",
       "      <td>NaN</td>\n",
       "      <td>NaN</td>\n",
       "    </tr>\n",
       "    <tr>\n",
       "      <th>std</th>\n",
       "      <td>NaN</td>\n",
       "      <td>NaN</td>\n",
       "      <td>NaN</td>\n",
       "      <td>NaN</td>\n",
       "      <td>NaN</td>\n",
       "      <td>NaN</td>\n",
       "      <td>NaN</td>\n",
       "      <td>NaN</td>\n",
       "      <td>NaN</td>\n",
       "      <td>NaN</td>\n",
       "      <td>...</td>\n",
       "      <td>0.688790</td>\n",
       "      <td>1.007179</td>\n",
       "      <td>NaN</td>\n",
       "      <td>NaN</td>\n",
       "      <td>NaN</td>\n",
       "      <td>NaN</td>\n",
       "      <td>NaN</td>\n",
       "      <td>NaN</td>\n",
       "      <td>NaN</td>\n",
       "      <td>NaN</td>\n",
       "    </tr>\n",
       "    <tr>\n",
       "      <th>min</th>\n",
       "      <td>NaN</td>\n",
       "      <td>NaN</td>\n",
       "      <td>NaN</td>\n",
       "      <td>NaN</td>\n",
       "      <td>NaN</td>\n",
       "      <td>NaN</td>\n",
       "      <td>NaN</td>\n",
       "      <td>NaN</td>\n",
       "      <td>NaN</td>\n",
       "      <td>NaN</td>\n",
       "      <td>...</td>\n",
       "      <td>1.000000</td>\n",
       "      <td>1.000000</td>\n",
       "      <td>NaN</td>\n",
       "      <td>NaN</td>\n",
       "      <td>NaN</td>\n",
       "      <td>NaN</td>\n",
       "      <td>NaN</td>\n",
       "      <td>NaN</td>\n",
       "      <td>NaN</td>\n",
       "      <td>NaN</td>\n",
       "    </tr>\n",
       "    <tr>\n",
       "      <th>25%</th>\n",
       "      <td>NaN</td>\n",
       "      <td>NaN</td>\n",
       "      <td>NaN</td>\n",
       "      <td>NaN</td>\n",
       "      <td>NaN</td>\n",
       "      <td>NaN</td>\n",
       "      <td>NaN</td>\n",
       "      <td>NaN</td>\n",
       "      <td>NaN</td>\n",
       "      <td>NaN</td>\n",
       "      <td>...</td>\n",
       "      <td>2.000000</td>\n",
       "      <td>1.000000</td>\n",
       "      <td>NaN</td>\n",
       "      <td>NaN</td>\n",
       "      <td>NaN</td>\n",
       "      <td>NaN</td>\n",
       "      <td>NaN</td>\n",
       "      <td>NaN</td>\n",
       "      <td>NaN</td>\n",
       "      <td>NaN</td>\n",
       "    </tr>\n",
       "    <tr>\n",
       "      <th>50%</th>\n",
       "      <td>NaN</td>\n",
       "      <td>NaN</td>\n",
       "      <td>NaN</td>\n",
       "      <td>NaN</td>\n",
       "      <td>NaN</td>\n",
       "      <td>NaN</td>\n",
       "      <td>NaN</td>\n",
       "      <td>NaN</td>\n",
       "      <td>NaN</td>\n",
       "      <td>NaN</td>\n",
       "      <td>...</td>\n",
       "      <td>2.000000</td>\n",
       "      <td>1.000000</td>\n",
       "      <td>NaN</td>\n",
       "      <td>NaN</td>\n",
       "      <td>NaN</td>\n",
       "      <td>NaN</td>\n",
       "      <td>NaN</td>\n",
       "      <td>NaN</td>\n",
       "      <td>NaN</td>\n",
       "      <td>NaN</td>\n",
       "    </tr>\n",
       "    <tr>\n",
       "      <th>75%</th>\n",
       "      <td>NaN</td>\n",
       "      <td>NaN</td>\n",
       "      <td>NaN</td>\n",
       "      <td>NaN</td>\n",
       "      <td>NaN</td>\n",
       "      <td>NaN</td>\n",
       "      <td>NaN</td>\n",
       "      <td>NaN</td>\n",
       "      <td>NaN</td>\n",
       "      <td>NaN</td>\n",
       "      <td>...</td>\n",
       "      <td>2.000000</td>\n",
       "      <td>2.000000</td>\n",
       "      <td>NaN</td>\n",
       "      <td>NaN</td>\n",
       "      <td>NaN</td>\n",
       "      <td>NaN</td>\n",
       "      <td>NaN</td>\n",
       "      <td>NaN</td>\n",
       "      <td>NaN</td>\n",
       "      <td>NaN</td>\n",
       "    </tr>\n",
       "    <tr>\n",
       "      <th>max</th>\n",
       "      <td>NaN</td>\n",
       "      <td>NaN</td>\n",
       "      <td>NaN</td>\n",
       "      <td>NaN</td>\n",
       "      <td>NaN</td>\n",
       "      <td>NaN</td>\n",
       "      <td>NaN</td>\n",
       "      <td>NaN</td>\n",
       "      <td>NaN</td>\n",
       "      <td>NaN</td>\n",
       "      <td>...</td>\n",
       "      <td>7.000000</td>\n",
       "      <td>8.000000</td>\n",
       "      <td>NaN</td>\n",
       "      <td>NaN</td>\n",
       "      <td>NaN</td>\n",
       "      <td>NaN</td>\n",
       "      <td>NaN</td>\n",
       "      <td>NaN</td>\n",
       "      <td>NaN</td>\n",
       "      <td>NaN</td>\n",
       "    </tr>\n",
       "  </tbody>\n",
       "</table>\n",
       "<p>11 rows × 28 columns</p>\n",
       "</div>"
      ],
      "text/plain": [
       "            Time Day_of_week Age_band_of_driver Sex_of_driver  \\\n",
       "count      12316       12316              12316         12316   \n",
       "unique      1074           7                  5             3   \n",
       "top     15:30:00      Friday              18-30          Male   \n",
       "freq         120        2041               4271         11437   \n",
       "mean         NaN         NaN                NaN           NaN   \n",
       "std          NaN         NaN                NaN           NaN   \n",
       "min          NaN         NaN                NaN           NaN   \n",
       "25%          NaN         NaN                NaN           NaN   \n",
       "50%          NaN         NaN                NaN           NaN   \n",
       "75%          NaN         NaN                NaN           NaN   \n",
       "max          NaN         NaN                NaN           NaN   \n",
       "\n",
       "         Educational_level Vehicle_driver_relation Driving_experience  \\\n",
       "count                11575                   11737              11487   \n",
       "unique                   7                       4                  7   \n",
       "top     Junior high school                Employee             5-10yr   \n",
       "freq                  7619                    9627               3363   \n",
       "mean                   NaN                     NaN                NaN   \n",
       "std                    NaN                     NaN                NaN   \n",
       "min                    NaN                     NaN                NaN   \n",
       "25%                    NaN                     NaN                NaN   \n",
       "50%                    NaN                     NaN                NaN   \n",
       "75%                    NaN                     NaN                NaN   \n",
       "max                    NaN                     NaN                NaN   \n",
       "\n",
       "       Type_of_vehicle Owner_of_vehicle Area_accident_occured  ...  \\\n",
       "count            11366            11834                 12077  ...   \n",
       "unique              17                4                    14  ...   \n",
       "top         Automobile            Owner                 Other  ...   \n",
       "freq              3205            10459                  3819  ...   \n",
       "mean               NaN              NaN                   NaN  ...   \n",
       "std                NaN              NaN                   NaN  ...   \n",
       "min                NaN              NaN                   NaN  ...   \n",
       "25%                NaN              NaN                   NaN  ...   \n",
       "50%                NaN              NaN                   NaN  ...   \n",
       "75%                NaN              NaN                   NaN  ...   \n",
       "max                NaN              NaN                   NaN  ...   \n",
       "\n",
       "       Number_of_vehicles_involved Number_of_casualties Vehicle_movement  \\\n",
       "count                 12316.000000         12316.000000            12008   \n",
       "unique                         NaN                  NaN               13   \n",
       "top                            NaN                  NaN   Going straight   \n",
       "freq                           NaN                  NaN             8158   \n",
       "mean                      2.040679             1.548149              NaN   \n",
       "std                       0.688790             1.007179              NaN   \n",
       "min                       1.000000             1.000000              NaN   \n",
       "25%                       2.000000             1.000000              NaN   \n",
       "50%                       2.000000             1.000000              NaN   \n",
       "75%                       2.000000             2.000000              NaN   \n",
       "max                       7.000000             8.000000              NaN   \n",
       "\n",
       "         Casualty_class Sex_of_casualty Age_band_of_casualty  \\\n",
       "count             12316           12316                12316   \n",
       "unique                4               3                    6   \n",
       "top     Driver or rider            Male                   na   \n",
       "freq               4944            5253                 4443   \n",
       "mean                NaN             NaN                  NaN   \n",
       "std                 NaN             NaN                  NaN   \n",
       "min                 NaN             NaN                  NaN   \n",
       "25%                 NaN             NaN                  NaN   \n",
       "50%                 NaN             NaN                  NaN   \n",
       "75%                 NaN             NaN                  NaN   \n",
       "max                 NaN             NaN                  NaN   \n",
       "\n",
       "       Casualty_severity Pedestrian_movement  Cause_of_accident  \\\n",
       "count              12316               12316              12316   \n",
       "unique                 4                   9                 20   \n",
       "top                    3    Not a Pedestrian      No distancing   \n",
       "freq                7076               11390               2263   \n",
       "mean                 NaN                 NaN                NaN   \n",
       "std                  NaN                 NaN                NaN   \n",
       "min                  NaN                 NaN                NaN   \n",
       "25%                  NaN                 NaN                NaN   \n",
       "50%                  NaN                 NaN                NaN   \n",
       "75%                  NaN                 NaN                NaN   \n",
       "max                  NaN                 NaN                NaN   \n",
       "\n",
       "        Accident_severity  \n",
       "count               12316  \n",
       "unique                  3  \n",
       "top         Slight Injury  \n",
       "freq                10415  \n",
       "mean                  NaN  \n",
       "std                   NaN  \n",
       "min                   NaN  \n",
       "25%                   NaN  \n",
       "50%                   NaN  \n",
       "75%                   NaN  \n",
       "max                   NaN  \n",
       "\n",
       "[11 rows x 28 columns]"
      ]
     },
     "execution_count": 9,
     "metadata": {},
     "output_type": "execute_result"
    }
   ],
   "source": [
    "df.describe(include=\"all\")"
   ]
  },
  {
   "cell_type": "markdown",
   "metadata": {},
   "source": [
    "### Listing the unique values and missing values for each column "
   ]
  },
  {
   "cell_type": "code",
   "execution_count": 10,
   "metadata": {
    "scrolled": false
   },
   "outputs": [
    {
     "name": "stdout",
     "output_type": "stream",
     "text": [
      "__________________________________________________\n",
      "Column: Time\n",
      "__________________________________________________\n",
      "15:30:00    120\n",
      "17:10:00    110\n",
      "18:30:00    103\n",
      "11:30:00     99\n",
      "17:00:00     98\n",
      "           ... \n",
      "14:31:00      1\n",
      "4:56:00       1\n",
      "5:53:00       1\n",
      "15:22:00      1\n",
      "1:58:00       1\n",
      "Name: Time, Length: 1074, dtype: int64\n",
      "missing values: 0\n",
      "\n",
      "\n",
      "__________________________________________________\n",
      "Column: Day_of_week\n",
      "__________________________________________________\n",
      "Friday       2041\n",
      "Thursday     1851\n",
      "Wednesday    1840\n",
      "Tuesday      1770\n",
      "Monday       1681\n",
      "Saturday     1666\n",
      "Sunday       1467\n",
      "Name: Day_of_week, dtype: int64\n",
      "missing values: 0\n",
      "\n",
      "\n",
      "__________________________________________________\n",
      "Column: Age_band_of_driver\n",
      "__________________________________________________\n",
      "18-30       4271\n",
      "31-50       4087\n",
      "Over 51     1585\n",
      "Unknown     1548\n",
      "Under 18     825\n",
      "Name: Age_band_of_driver, dtype: int64\n",
      "missing values: 0\n",
      "\n",
      "\n",
      "__________________________________________________\n",
      "Column: Sex_of_driver\n",
      "__________________________________________________\n",
      "Male       11437\n",
      "Female       701\n",
      "Unknown      178\n",
      "Name: Sex_of_driver, dtype: int64\n",
      "missing values: 0\n",
      "\n",
      "\n",
      "__________________________________________________\n",
      "Column: Educational_level\n",
      "__________________________________________________\n",
      "Junior high school    7619\n",
      "Elementary school     2163\n",
      "High school           1110\n",
      "Above high school      362\n",
      "Writing & reading      176\n",
      "Unknown                100\n",
      "Illiterate              45\n",
      "Name: Educational_level, dtype: int64\n",
      "missing values: 741\n",
      "\n",
      "\n",
      "__________________________________________________\n",
      "Column: Vehicle_driver_relation\n",
      "__________________________________________________\n",
      "Employee    9627\n",
      "Owner       1973\n",
      "Other        123\n",
      "Unknown       14\n",
      "Name: Vehicle_driver_relation, dtype: int64\n",
      "missing values: 579\n",
      "\n",
      "\n",
      "__________________________________________________\n",
      "Column: Driving_experience\n",
      "__________________________________________________\n",
      "5-10yr        3363\n",
      "2-5yr         2613\n",
      "Above 10yr    2262\n",
      "1-2yr         1756\n",
      "Below 1yr     1342\n",
      "No Licence     118\n",
      "unknown         33\n",
      "Name: Driving_experience, dtype: int64\n",
      "missing values: 829\n",
      "\n",
      "\n",
      "__________________________________________________\n",
      "Column: Type_of_vehicle\n",
      "__________________________________________________\n",
      "Automobile              3205\n",
      "Lorry (41?100Q)         2186\n",
      "Other                   1208\n",
      "Pick up upto 10Q         811\n",
      "Public (12 seats)        711\n",
      "Stationwagen             687\n",
      "Lorry (11?40Q)           541\n",
      "Public (13?45 seats)     532\n",
      "Public (> 45 seats)      404\n",
      "Long lorry               383\n",
      "Taxi                     265\n",
      "Motorcycle               177\n",
      "Special vehicle           84\n",
      "Ridden horse              76\n",
      "Turbo                     46\n",
      "Bajaj                     29\n",
      "Bicycle                   21\n",
      "Name: Type_of_vehicle, dtype: int64\n",
      "missing values: 950\n",
      "\n",
      "\n",
      "__________________________________________________\n",
      "Column: Owner_of_vehicle\n",
      "__________________________________________________\n",
      "Owner           10459\n",
      "Governmental     1041\n",
      "Organization      312\n",
      "Other              22\n",
      "Name: Owner_of_vehicle, dtype: int64\n",
      "missing values: 482\n",
      "\n",
      "\n",
      "__________________________________________________\n",
      "Column: Area_accident_occured\n",
      "__________________________________________________\n",
      "Other                              3819\n",
      "Office areas                       3451\n",
      "Residential areas                  2060\n",
      " Church areas                      1060\n",
      " Industrial areas                   456\n",
      "School areas                        415\n",
      "  Recreational areas                327\n",
      " Outside rural areas                218\n",
      " Hospital areas                     121\n",
      "  Market areas                       63\n",
      "Rural village areas                  44\n",
      "Unknown                              22\n",
      "Rural village areasOffice areas      20\n",
      "Recreational areas                    1\n",
      "Name: Area_accident_occured, dtype: int64\n",
      "missing values: 239\n",
      "\n",
      "\n",
      "__________________________________________________\n",
      "Column: Lanes_or_Medians\n",
      "__________________________________________________\n",
      "Two-way (divided with broken lines road marking)    4411\n",
      "Undivided Two way                                   3796\n",
      "other                                               1660\n",
      "Double carriageway (median)                         1020\n",
      "One way                                              845\n",
      "Two-way (divided with solid lines road marking)      142\n",
      "Unknown                                               57\n",
      "Name: Lanes_or_Medians, dtype: int64\n",
      "missing values: 385\n",
      "\n",
      "\n",
      "__________________________________________________\n",
      "Column: Road_allignment\n",
      "__________________________________________________\n",
      "Tangent road with flat terrain                   10459\n",
      "Tangent road with mild grade and flat terrain      501\n",
      "Steep grade downward with mountainous terrain      429\n",
      "Tangent road with mountainous terrain and          396\n",
      "Gentle horizontal curve                            163\n",
      "Escarpments                                        113\n",
      "Sharp reverse curve                                 57\n",
      "Tangent road with rolling terrain                   37\n",
      "Steep grade upward with mountainous terrain         19\n",
      "Name: Road_allignment, dtype: int64\n",
      "missing values: 142\n",
      "\n",
      "\n",
      "__________________________________________________\n",
      "Column: Types_of_Junction\n",
      "__________________________________________________\n",
      "Y Shape        4543\n",
      "No junction    3837\n",
      "Crossing       2177\n",
      "Other           445\n",
      "Unknown         191\n",
      "O Shape         164\n",
      "T Shape          60\n",
      "X Shape          12\n",
      "Name: Types_of_Junction, dtype: int64\n",
      "missing values: 887\n",
      "\n",
      "\n",
      "__________________________________________________\n",
      "Column: Road_surface_type\n",
      "__________________________________________________\n",
      "Asphalt roads                       11296\n",
      "Earth roads                           358\n",
      "Gravel roads                          242\n",
      "Other                                 167\n",
      "Asphalt roads with some distress       81\n",
      "Name: Road_surface_type, dtype: int64\n",
      "missing values: 172\n",
      "\n",
      "\n",
      "__________________________________________________\n",
      "Column: Road_surface_conditions\n",
      "__________________________________________________\n",
      "Dry                     9340\n",
      "Wet or damp             2904\n",
      "Snow                      70\n",
      "Flood over 3cm. deep       2\n",
      "Name: Road_surface_conditions, dtype: int64\n",
      "missing values: 0\n",
      "\n",
      "\n",
      "__________________________________________________\n",
      "Column: Light_conditions\n",
      "__________________________________________________\n",
      "Daylight                   8798\n",
      "Darkness - lights lit      3286\n",
      "Darkness - no lighting      192\n",
      "Darkness - lights unlit      40\n",
      "Name: Light_conditions, dtype: int64\n",
      "missing values: 0\n",
      "\n",
      "\n",
      "__________________________________________________\n",
      "Column: Weather_conditions\n",
      "__________________________________________________\n",
      "Normal               10063\n",
      "Raining               1331\n",
      "Other                  296\n",
      "Unknown                292\n",
      "Cloudy                 125\n",
      "Windy                   98\n",
      "Snow                    61\n",
      "Raining and Windy       40\n",
      "Fog or mist             10\n",
      "Name: Weather_conditions, dtype: int64\n",
      "missing values: 0\n",
      "\n",
      "\n",
      "__________________________________________________\n",
      "Column: Type_of_collision\n",
      "__________________________________________________\n",
      "Vehicle with vehicle collision             8774\n",
      "Collision with roadside objects            1786\n",
      "Collision with pedestrians                  896\n",
      "Rollover                                    397\n",
      "Collision with animals                      171\n",
      "Collision with roadside-parked vehicles      54\n",
      "Fall from vehicles                           34\n",
      "Other                                        26\n",
      "Unknown                                      14\n",
      "With Train                                    9\n",
      "Name: Type_of_collision, dtype: int64\n",
      "missing values: 155\n",
      "\n",
      "\n",
      "__________________________________________________\n",
      "Column: Number_of_vehicles_involved\n",
      "__________________________________________________\n",
      "2    8340\n",
      "1    1996\n",
      "3    1568\n",
      "4     363\n",
      "6      42\n",
      "7       7\n",
      "Name: Number_of_vehicles_involved, dtype: int64\n",
      "missing values: 0\n",
      "\n",
      "\n",
      "__________________________________________________\n",
      "Column: Number_of_casualties\n",
      "__________________________________________________\n",
      "1    8397\n",
      "2    2290\n",
      "3     909\n",
      "4     394\n",
      "5     207\n",
      "6      89\n",
      "7      22\n",
      "8       8\n",
      "Name: Number_of_casualties, dtype: int64\n",
      "missing values: 0\n",
      "\n",
      "\n",
      "__________________________________________________\n",
      "Column: Vehicle_movement\n",
      "__________________________________________________\n",
      "Going straight         8158\n",
      "Moving Backward         985\n",
      "Other                   937\n",
      "Reversing               563\n",
      "Turnover                489\n",
      "Getting off             339\n",
      "Entering a junction     193\n",
      "Overtaking               96\n",
      "Unknown                  88\n",
      "Stopping                 61\n",
      "U-Turn                   50\n",
      "Waiting to go            39\n",
      "Parked                   10\n",
      "Name: Vehicle_movement, dtype: int64\n",
      "missing values: 308\n",
      "\n",
      "\n",
      "__________________________________________________\n",
      "Column: Casualty_class\n",
      "__________________________________________________\n",
      "Driver or rider    4944\n",
      "na                 4443\n",
      "Pedestrian         1649\n",
      "Passenger          1280\n",
      "Name: Casualty_class, dtype: int64\n",
      "missing values: 0\n",
      "\n",
      "\n",
      "__________________________________________________\n",
      "Column: Sex_of_casualty\n",
      "__________________________________________________\n",
      "Male      5253\n",
      "na        4443\n",
      "Female    2620\n",
      "Name: Sex_of_casualty, dtype: int64\n",
      "missing values: 0\n",
      "\n",
      "\n",
      "__________________________________________________\n",
      "Column: Age_band_of_casualty\n",
      "__________________________________________________\n",
      "na          4443\n",
      "18-30       3145\n",
      "31-50       2455\n",
      "Under 18    1035\n",
      "Over 51      994\n",
      "5            244\n",
      "Name: Age_band_of_casualty, dtype: int64\n",
      "missing values: 0\n",
      "\n",
      "\n",
      "__________________________________________________\n",
      "Column: Casualty_severity\n",
      "__________________________________________________\n",
      "3     7076\n",
      "na    4443\n",
      "2      771\n",
      "1       26\n",
      "Name: Casualty_severity, dtype: int64\n",
      "missing values: 0\n",
      "\n",
      "\n",
      "__________________________________________________\n",
      "Column: Pedestrian_movement\n",
      "__________________________________________________\n",
      "Not a Pedestrian                                                                                                                         11390\n",
      "Crossing from nearside - masked by parked or statioNot a Pedestrianry vehicle                                                              337\n",
      "Unknown or other                                                                                                                           293\n",
      "Crossing from driver's nearside                                                                                                            140\n",
      "Crossing from offside - masked by  parked or statioNot a Pedestrianry vehicle                                                               72\n",
      "In carriageway, statioNot a Pedestrianry - not crossing  (standing or playing)                                                              46\n",
      "Walking along in carriageway, back to traffic                                                                                               18\n",
      "In carriageway, statioNot a Pedestrianry - not crossing  (standing or playing) - masked by parked or statioNot a Pedestrianry vehicle       13\n",
      "Walking along in carriageway, facing traffic                                                                                                 7\n",
      "Name: Pedestrian_movement, dtype: int64\n",
      "missing values: 0\n",
      "\n",
      "\n",
      "__________________________________________________\n",
      "Column: Cause_of_accident\n",
      "__________________________________________________\n",
      "No distancing                           2263\n",
      "Changing lane to the right              1808\n",
      "Changing lane to the left               1473\n",
      "Driving carelessly                      1402\n",
      "No priority to vehicle                  1207\n",
      "Moving Backward                         1137\n",
      "No priority to pedestrian                721\n",
      "Other                                    456\n",
      "Overtaking                               430\n",
      "Driving under the influence of drugs     340\n",
      "Driving to the left                      284\n",
      "Getting off the vehicle improperly       197\n",
      "Driving at high speed                    174\n",
      "Overturning                              149\n",
      "Turnover                                  78\n",
      "Overspeed                                 61\n",
      "Overloading                               59\n",
      "Drunk driving                             27\n",
      "Unknown                                   25\n",
      "Improper parking                          25\n",
      "Name: Cause_of_accident, dtype: int64\n",
      "missing values: 0\n",
      "\n",
      "\n",
      "__________________________________________________\n",
      "Column: Accident_severity\n",
      "__________________________________________________\n",
      "Slight Injury     10415\n",
      "Serious Injury     1743\n",
      "Fatal injury        158\n",
      "Name: Accident_severity, dtype: int64\n",
      "missing values: 0\n",
      "\n",
      "\n"
     ]
    }
   ],
   "source": [
    "#Let us study the unique values, missing values and the value counts of each variable  \n",
    "\n",
    "for col in df:\n",
    "  \n",
    "    print('_'*50)\n",
    "    print(f\"Column: {col}\")\n",
    "    print('_'*50)\n",
    "    print(df[col].value_counts())\n",
    "    print(\"missing values:\", df[col].isna().sum())\n",
    "    print('\\n')\n"
   ]
  },
  {
   "cell_type": "markdown",
   "metadata": {},
   "source": [
    "## Dealing with Missing Values "
   ]
  },
  {
   "cell_type": "markdown",
   "metadata": {},
   "source": [
    "As we know, the `Mean` of the numerical column data is used to replace null values when the data is normally distributed. \n",
    "\n",
    "`Median` is used if the data comprised of outliers.\n",
    "\n",
    "`Mode` is used when the data having more occurences of a particular value or more frequent value."
   ]
  },
  {
   "cell_type": "markdown",
   "metadata": {},
   "source": [
    "### Let us replace the nulls or missing values using mode i.e. with most frequent values in the cases where the proportion of top most frequent value of a variable is high comparable to other values."
   ]
  },
  {
   "cell_type": "markdown",
   "metadata": {},
   "source": [
    "### Replacing missing values using mode "
   ]
  },
  {
   "cell_type": "code",
   "execution_count": 11,
   "metadata": {},
   "outputs": [
    {
     "name": "stdout",
     "output_type": "stream",
     "text": [
      "0    Junior high school\n",
      "dtype: object\n",
      "Null values in 0\n",
      "/n\n",
      "0    Employee\n",
      "dtype: object\n",
      "Null values in 0\n",
      "/n\n",
      "0    Automobile\n",
      "dtype: object\n",
      "Null values in 0\n",
      "/n\n",
      "0    Owner\n",
      "dtype: object\n",
      "Null values in 0\n",
      "/n\n",
      "0    Other\n",
      "dtype: object\n",
      "Null values in 0\n",
      "/n\n",
      "0    Tangent road with flat terrain\n",
      "dtype: object\n",
      "Null values in 0\n",
      "/n\n",
      "0    Asphalt roads\n",
      "dtype: object\n",
      "Null values in 0\n",
      "/n\n",
      "0    Vehicle with vehicle collision\n",
      "dtype: object\n",
      "Null values in 0\n",
      "/n\n",
      "0    Going straight\n",
      "dtype: object\n",
      "Null values in 0\n",
      "/n\n"
     ]
    }
   ],
   "source": [
    "cols = ('Educational_level','Vehicle_driver_relation',\n",
    "        'Type_of_vehicle','Owner_of_vehicle','Area_accident_occured','Road_allignment',\n",
    "        'Road_surface_type','Type_of_collision','Vehicle_movement')\n",
    "\n",
    "for cols in cols:\n",
    "    print(df[cols].mode())\n",
    "    df[cols]= df[cols].fillna(df[cols].mode()[0])\n",
    "    print(\"Null values in\", df[cols].isna().sum())\n",
    "    print('/n')"
   ]
  },
  {
   "cell_type": "code",
   "execution_count": 12,
   "metadata": {},
   "outputs": [
    {
     "data": {
      "text/plain": [
       "Time                             0\n",
       "Day_of_week                      0\n",
       "Age_band_of_driver               0\n",
       "Sex_of_driver                    0\n",
       "Educational_level                0\n",
       "Vehicle_driver_relation          0\n",
       "Driving_experience             829\n",
       "Type_of_vehicle                  0\n",
       "Owner_of_vehicle                 0\n",
       "Area_accident_occured            0\n",
       "Lanes_or_Medians               385\n",
       "Road_allignment                  0\n",
       "Types_of_Junction              887\n",
       "Road_surface_type                0\n",
       "Road_surface_conditions          0\n",
       "Light_conditions                 0\n",
       "Weather_conditions               0\n",
       "Type_of_collision                0\n",
       "Number_of_vehicles_involved      0\n",
       "Number_of_casualties             0\n",
       "Vehicle_movement                 0\n",
       "Casualty_class                   0\n",
       "Sex_of_casualty                  0\n",
       "Age_band_of_casualty             0\n",
       "Casualty_severity                0\n",
       "Pedestrian_movement              0\n",
       "Cause_of_accident                0\n",
       "Accident_severity                0\n",
       "dtype: int64"
      ]
     },
     "execution_count": 12,
     "metadata": {},
     "output_type": "execute_result"
    }
   ],
   "source": [
    "# validate \n",
    "df.isna().sum()"
   ]
  },
  {
   "cell_type": "markdown",
   "metadata": {},
   "source": [
    "### So in columns like `Driving_experience`, `Lanes_or_Medians` and `Types_of_Junction`, the above method i.e. replacing the missing values with mode could be done,  however, in these columns the proportion of the top most frequent value of the variable is in propotion is not very high from second top value,\n",
    "\n",
    "eg: In case of `Driving_experience`\n",
    "\n",
    "#### Name: Driving_experience, dtype: object\n",
    "\n",
    "#### 5-10yr    -     3363\n",
    "\n",
    "#### 2-5yr      -   2613\n",
    "\n",
    "#### Above 10yr -   2262\n",
    "\n",
    "#### 1-2yr      -   1756\n",
    "\n",
    "#### Below 1yr   -  1342\n",
    "\n",
    "#### No Licence  -   118\n",
    "\n",
    "#### unknown     -    33\n",
    "\n",
    "#### missing values: 829\n",
    "\n",
    "\n",
    "we can see that there is not a huge difference in the no of times values `5-10yr` and `2-5yr` are repeated, , so if we would replace all 829 missing values with `5-10yr`, then it would just increase the difference, thus would eventually devaite our data. So a better way of dealing this would be either just removing the missing values all together or just replacing it with `Unknown`\n",
    "\n",
    "\n"
   ]
  },
  {
   "cell_type": "code",
   "execution_count": 13,
   "metadata": {},
   "outputs": [],
   "source": [
    "# replacing missing values with `Unknown`\n",
    "\n",
    "cols = ['Driving_experience', 'Lanes_or_Medians', 'Types_of_Junction']\n",
    "\n",
    "for cols in cols:\n",
    "    df[cols] = df[cols].fillna('Unknown')"
   ]
  },
  {
   "cell_type": "code",
   "execution_count": 14,
   "metadata": {},
   "outputs": [
    {
     "data": {
      "text/plain": [
       "Time                           0\n",
       "Day_of_week                    0\n",
       "Age_band_of_driver             0\n",
       "Sex_of_driver                  0\n",
       "Educational_level              0\n",
       "Vehicle_driver_relation        0\n",
       "Driving_experience             0\n",
       "Type_of_vehicle                0\n",
       "Owner_of_vehicle               0\n",
       "Area_accident_occured          0\n",
       "Lanes_or_Medians               0\n",
       "Road_allignment                0\n",
       "Types_of_Junction              0\n",
       "Road_surface_type              0\n",
       "Road_surface_conditions        0\n",
       "Light_conditions               0\n",
       "Weather_conditions             0\n",
       "Type_of_collision              0\n",
       "Number_of_vehicles_involved    0\n",
       "Number_of_casualties           0\n",
       "Vehicle_movement               0\n",
       "Casualty_class                 0\n",
       "Sex_of_casualty                0\n",
       "Age_band_of_casualty           0\n",
       "Casualty_severity              0\n",
       "Pedestrian_movement            0\n",
       "Cause_of_accident              0\n",
       "Accident_severity              0\n",
       "dtype: int64"
      ]
     },
     "execution_count": 14,
     "metadata": {},
     "output_type": "execute_result"
    }
   ],
   "source": [
    "# validate \n",
    "df.isna().sum()"
   ]
  },
  {
   "cell_type": "markdown",
   "metadata": {},
   "source": [
    "### Checking for duplicates "
   ]
  },
  {
   "cell_type": "code",
   "execution_count": 15,
   "metadata": {
    "scrolled": true
   },
   "outputs": [
    {
     "data": {
      "text/plain": [
       "0"
      ]
     },
     "execution_count": 15,
     "metadata": {},
     "output_type": "execute_result"
    }
   ],
   "source": [
    "df.duplicated().sum()"
   ]
  },
  {
   "cell_type": "markdown",
   "metadata": {},
   "source": [
    "### `Age_band_of_casualty`"
   ]
  },
  {
   "cell_type": "code",
   "execution_count": 16,
   "metadata": {
    "scrolled": true
   },
   "outputs": [
    {
     "data": {
      "text/plain": [
       "na          4443\n",
       "18-30       3145\n",
       "31-50       2455\n",
       "Under 18    1035\n",
       "Over 51      994\n",
       "5            244\n",
       "Name: Age_band_of_casualty, dtype: int64"
      ]
     },
     "execution_count": 16,
     "metadata": {},
     "output_type": "execute_result"
    }
   ],
   "source": [
    "df['Age_band_of_casualty'].value_counts()"
   ]
  },
  {
   "cell_type": "markdown",
   "metadata": {},
   "source": [
    "###### We can see that there are some discrepancies in this column, we can replace `5` with `Under 18` and `na` with `Unknown`"
   ]
  },
  {
   "cell_type": "code",
   "execution_count": 17,
   "metadata": {},
   "outputs": [
    {
     "data": {
      "text/plain": [
       "Unknown     4443\n",
       "18-30       3145\n",
       "31-50       2455\n",
       "Under 18    1279\n",
       "Over 51      994\n",
       "Name: Age_band_of_casualty, dtype: int64"
      ]
     },
     "execution_count": 17,
     "metadata": {},
     "output_type": "execute_result"
    }
   ],
   "source": [
    "df['Age_band_of_casualty'] = df['Age_band_of_casualty'].replace('5', 'Under 18').replace('na', 'Unknown')\n",
    "\n",
    "# validate \n",
    "df['Age_band_of_casualty'].value_counts()"
   ]
  },
  {
   "cell_type": "markdown",
   "metadata": {},
   "source": [
    "### `Area_accident_occured` "
   ]
  },
  {
   "cell_type": "markdown",
   "metadata": {},
   "source": [
    "##### There are many discrepancies in this column `Area_accident_occured` \n",
    "\n",
    "##### There are values like `Rural village areasOffice areas` which seems like it was misentered.\n",
    "##### So we can replace `Rural village areasOffice areas` this with just `Rural village areas`. \n",
    "\n",
    "We could have kept the column `Rural village areasOffice areas` as it is, as well, however, I chose to replace it with `Rural village areas`\n",
    "\n",
    "Also remove the extra spacing in front of the values."
   ]
  },
  {
   "cell_type": "code",
   "execution_count": 18,
   "metadata": {},
   "outputs": [],
   "source": [
    "df['Area_accident_occured'] = df['Area_accident_occured'].replace('Rural village areasOffice areas', 'Rural village areas')"
   ]
  },
  {
   "cell_type": "code",
   "execution_count": 19,
   "metadata": {},
   "outputs": [],
   "source": [
    "df['Area_accident_occured'] = df['Area_accident_occured'].replace('  Recreational areas', 'Recreational areas')\n",
    "df['Area_accident_occured'] = df['Area_accident_occured'].replace(' Church areas', 'Church areas')\n",
    "df['Area_accident_occured'] = df['Area_accident_occured'].replace(' Industrial areas', 'Industrial areas')\n",
    "df['Area_accident_occured'] = df['Area_accident_occured'].replace(' Outside rural areas', 'Outside rural areas')\n",
    "df['Area_accident_occured'] = df['Area_accident_occured'].replace(' Hospital areas', 'Hospital areas')\n",
    "df['Area_accident_occured'] = df['Area_accident_occured'].replace('  Market areas', 'Market areas')"
   ]
  },
  {
   "cell_type": "code",
   "execution_count": 20,
   "metadata": {
    "scrolled": false
   },
   "outputs": [
    {
     "data": {
      "text/plain": [
       "Other                  4058\n",
       "Office areas           3451\n",
       "Residential areas      2060\n",
       "Church areas           1060\n",
       "Industrial areas        456\n",
       "School areas            415\n",
       "Recreational areas      328\n",
       "Outside rural areas     218\n",
       "Hospital areas          121\n",
       "Rural village areas      64\n",
       "Market areas             63\n",
       "Unknown                  22\n",
       "Name: Area_accident_occured, dtype: int64"
      ]
     },
     "execution_count": 20,
     "metadata": {},
     "output_type": "execute_result"
    }
   ],
   "source": [
    "#validate \n",
    "df['Area_accident_occured'].value_counts()"
   ]
  },
  {
   "cell_type": "markdown",
   "metadata": {},
   "source": [
    "### `Type_of_vehicle`"
   ]
  },
  {
   "cell_type": "markdown",
   "metadata": {},
   "source": [
    "##### Putting all the values that contains `Lorry (41?100Q) ` , ` Lorry (11?40Q)` , `Long lorry` and `Pick up upto 10Q` into one category of  `Lorry`\n",
    "\n",
    "##### also  `Public (12 seats)` , `Public (13?45 seats)` and  `Public (> 45 seats)` into `Public`\n",
    "                                                  "
   ]
  },
  {
   "cell_type": "code",
   "execution_count": 21,
   "metadata": {
    "scrolled": true
   },
   "outputs": [
    {
     "data": {
      "text/plain": [
       "Automobile              4155\n",
       "Lorry (41?100Q)         2186\n",
       "Other                   1208\n",
       "Pick up upto 10Q         811\n",
       "Public (12 seats)        711\n",
       "Stationwagen             687\n",
       "Lorry (11?40Q)           541\n",
       "Public (13?45 seats)     532\n",
       "Public (> 45 seats)      404\n",
       "Long lorry               383\n",
       "Taxi                     265\n",
       "Motorcycle               177\n",
       "Special vehicle           84\n",
       "Ridden horse              76\n",
       "Turbo                     46\n",
       "Bajaj                     29\n",
       "Bicycle                   21\n",
       "Name: Type_of_vehicle, dtype: int64"
      ]
     },
     "execution_count": 21,
     "metadata": {},
     "output_type": "execute_result"
    }
   ],
   "source": [
    "# validate \n",
    "\n",
    "df['Type_of_vehicle'].value_counts()"
   ]
  },
  {
   "cell_type": "code",
   "execution_count": 22,
   "metadata": {},
   "outputs": [],
   "source": [
    "df['Type_of_vehicle'] = df['Type_of_vehicle'].replace({'Lorry (41?100Q)': 'Lorry',\n",
    "                                                   'Lorry (11?40Q)': 'Lorry',\n",
    "                                                   'Long lorry': 'Lorry',\n",
    "                                                   'Pick up upto 10Q': 'Lorry',\n",
    "                                                   'Public (12 seats)': 'Public',\n",
    "                                                   'Public (13?45 seats)': 'Public',\n",
    "                                                   'Public (> 45 seats)': 'Public'\n",
    "                                                    })"
   ]
  },
  {
   "cell_type": "code",
   "execution_count": 45,
   "metadata": {},
   "outputs": [
    {
     "data": {
      "text/plain": [
       "Automobile         4155\n",
       "Lorry              3921\n",
       "Public             1647\n",
       "Other              1208\n",
       "Stationwagen        687\n",
       "Taxi                265\n",
       "Motorcycle          177\n",
       "Special vehicle      84\n",
       "Ridden horse         76\n",
       "Turbo                46\n",
       "Bajaj                29\n",
       "Bicycle              21\n",
       "Name: Type_of_vehicle, dtype: int64"
      ]
     },
     "execution_count": 45,
     "metadata": {},
     "output_type": "execute_result"
    }
   ],
   "source": [
    "#validate \n",
    "\n",
    "df['Type_of_vehicle'].value_counts()"
   ]
  },
  {
   "cell_type": "markdown",
   "metadata": {},
   "source": [
    "### `Driving_experience`"
   ]
  },
  {
   "cell_type": "markdown",
   "metadata": {},
   "source": [
    "##### Replacing `unknown` with `Unknown`"
   ]
  },
  {
   "cell_type": "code",
   "execution_count": 23,
   "metadata": {
    "scrolled": false
   },
   "outputs": [
    {
     "data": {
      "text/plain": [
       "5-10yr        3363\n",
       "2-5yr         2613\n",
       "Above 10yr    2262\n",
       "1-2yr         1756\n",
       "Below 1yr     1342\n",
       "Unknown        829\n",
       "No Licence     118\n",
       "unknown         33\n",
       "Name: Driving_experience, dtype: int64"
      ]
     },
     "execution_count": 23,
     "metadata": {},
     "output_type": "execute_result"
    }
   ],
   "source": [
    "df['Driving_experience'].value_counts()"
   ]
  },
  {
   "cell_type": "code",
   "execution_count": 24,
   "metadata": {},
   "outputs": [],
   "source": [
    "df['Driving_experience']=df['Driving_experience'].replace('unknown','Unknown') "
   ]
  },
  {
   "cell_type": "code",
   "execution_count": 25,
   "metadata": {
    "scrolled": false
   },
   "outputs": [
    {
     "data": {
      "text/plain": [
       "5-10yr        3363\n",
       "2-5yr         2613\n",
       "Above 10yr    2262\n",
       "1-2yr         1756\n",
       "Below 1yr     1342\n",
       "Unknown        862\n",
       "No Licence     118\n",
       "Name: Driving_experience, dtype: int64"
      ]
     },
     "execution_count": 25,
     "metadata": {},
     "output_type": "execute_result"
    }
   ],
   "source": [
    "df['Driving_experience'].value_counts()"
   ]
  },
  {
   "cell_type": "markdown",
   "metadata": {},
   "source": [
    "### `Casualty_severity`\n",
    "\n",
    "\n",
    "##### Replacing `na` with `Unknown`"
   ]
  },
  {
   "cell_type": "code",
   "execution_count": 26,
   "metadata": {
    "scrolled": true
   },
   "outputs": [
    {
     "data": {
      "text/plain": [
       "3     7076\n",
       "na    4443\n",
       "2      771\n",
       "1       26\n",
       "Name: Casualty_severity, dtype: int64"
      ]
     },
     "execution_count": 26,
     "metadata": {},
     "output_type": "execute_result"
    }
   ],
   "source": [
    "df['Casualty_severity'].value_counts()"
   ]
  },
  {
   "cell_type": "code",
   "execution_count": 27,
   "metadata": {
    "scrolled": false
   },
   "outputs": [
    {
     "data": {
      "text/plain": [
       "3          7076\n",
       "Unknown    4443\n",
       "2           771\n",
       "1            26\n",
       "Name: Casualty_severity, dtype: int64"
      ]
     },
     "execution_count": 27,
     "metadata": {},
     "output_type": "execute_result"
    }
   ],
   "source": [
    "df['Casualty_severity'] = df['Casualty_severity'].replace('na', 'Unknown') \n",
    "df['Casualty_severity'].value_counts()"
   ]
  },
  {
   "cell_type": "markdown",
   "metadata": {},
   "source": [
    "### `Time`"
   ]
  },
  {
   "cell_type": "markdown",
   "metadata": {},
   "source": [
    "### Converting `Time` into Categorical Variable containing time buckets like\n",
    "#### `Early Morning` ,`Morning` , `Afternoon` , `Evening` and `Night`"
   ]
  },
  {
   "cell_type": "code",
   "execution_count": 29,
   "metadata": {
    "scrolled": false
   },
   "outputs": [
    {
     "data": {
      "text/plain": [
       "15:30:00    120\n",
       "17:10:00    110\n",
       "18:30:00    103\n",
       "11:30:00     99\n",
       "17:00:00     98\n",
       "           ... \n",
       "14:31:00      1\n",
       "4:56:00       1\n",
       "5:53:00       1\n",
       "15:22:00      1\n",
       "1:58:00       1\n",
       "Name: Time, Length: 1074, dtype: int64"
      ]
     },
     "execution_count": 29,
     "metadata": {},
     "output_type": "execute_result"
    }
   ],
   "source": [
    "df['Time'].value_counts()"
   ]
  },
  {
   "cell_type": "code",
   "execution_count": 31,
   "metadata": {},
   "outputs": [],
   "source": [
    "# converting into datetime format to extract hour of the day \n",
    "df['Time'] = pd.to_datetime(df['Time'])"
   ]
  },
  {
   "cell_type": "code",
   "execution_count": 32,
   "metadata": {},
   "outputs": [],
   "source": [
    "# Extracting the hour of the day \n",
    "df[\"hour\"] = df['Time'].dt.hour"
   ]
  },
  {
   "cell_type": "code",
   "execution_count": 33,
   "metadata": {
    "scrolled": true
   },
   "outputs": [
    {
     "data": {
      "text/plain": [
       "0        17\n",
       "1        17\n",
       "2        17\n",
       "3         1\n",
       "4         1\n",
       "         ..\n",
       "12311    16\n",
       "12312    18\n",
       "12313    13\n",
       "12314    13\n",
       "12315    13\n",
       "Name: hour, Length: 12316, dtype: int64"
      ]
     },
     "execution_count": 33,
     "metadata": {},
     "output_type": "execute_result"
    }
   ],
   "source": [
    "df['hour']"
   ]
  },
  {
   "cell_type": "code",
   "execution_count": 42,
   "metadata": {},
   "outputs": [],
   "source": [
    "b = [0,4,8,12,16,20,24]\n",
    "l = ['Late Night', 'Early Morning','Morning','Afternoon','Evening','Night'] \n",
    "df['Time_of_accident'] = pd.cut(df['hour'], bins=b, labels=l, include_lowest=True)"
   ]
  },
  {
   "cell_type": "code",
   "execution_count": 43,
   "metadata": {},
   "outputs": [
    {
     "data": {
      "text/plain": [
       "Evening          3496\n",
       "Afternoon        3206\n",
       "Morning          2353\n",
       "Early Morning    1650\n",
       "Night            1012\n",
       "Late Night        599\n",
       "Name: Time_of_accident, dtype: int64"
      ]
     },
     "execution_count": 43,
     "metadata": {},
     "output_type": "execute_result"
    }
   ],
   "source": [
    "df['Time_of_accident'].value_counts()"
   ]
  },
  {
   "cell_type": "code",
   "execution_count": 28,
   "metadata": {},
   "outputs": [],
   "source": [
    "# let us export this clean dataframe into a csv file \n",
    "\n",
    "#df.to_csv(r'C:\\Users\\16476\\Downloads\\RTA Dataset1.csv')"
   ]
  }
 ],
 "metadata": {
  "kernelspec": {
   "display_name": "Python 3",
   "language": "python",
   "name": "python3"
  },
  "language_info": {
   "codemirror_mode": {
    "name": "ipython",
    "version": 3
   },
   "file_extension": ".py",
   "mimetype": "text/x-python",
   "name": "python",
   "nbconvert_exporter": "python",
   "pygments_lexer": "ipython3",
   "version": "3.7.6"
  }
 },
 "nbformat": 4,
 "nbformat_minor": 4
}
